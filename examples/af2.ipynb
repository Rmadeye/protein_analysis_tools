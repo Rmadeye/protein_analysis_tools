{
 "cells": [
  {
   "cell_type": "code",
   "execution_count": 1,
   "metadata": {},
   "outputs": [],
   "source": [
    "import sys\n",
    "import glob\n",
    "\n",
    "sys.path.append(\"../\")\n",
    "\n",
    "from tools.af2 import af2_input_generator, af2_analysis"
   ]
  },
  {
   "cell_type": "markdown",
   "metadata": {},
   "source": [
    "### Let's generate some input files for AF2 run (run itself not included!)"
   ]
  },
  {
   "cell_type": "code",
   "execution_count": 2,
   "metadata": {},
   "outputs": [],
   "source": [
    "af2 = af2_input_generator.AF2InputGenerator('MNTGWALGGHYHYAGGAHHIEDACPISIKANFEDERACIE',output_dir='files/af2_samples')\n",
    "af2.write_af2_inputs(oligo_state=2)\n",
    "af2.write_af2_exec(n_cores=4, amber=False)"
   ]
  },
  {
   "cell_type": "markdown",
   "metadata": {},
   "source": [
    "### Let's do some simple analysis"
   ]
  },
  {
   "cell_type": "code",
   "execution_count": 3,
   "metadata": {},
   "outputs": [
    {
     "data": {
      "text/html": [
       "<div>\n",
       "<style scoped>\n",
       "    .dataframe tbody tr th:only-of-type {\n",
       "        vertical-align: middle;\n",
       "    }\n",
       "\n",
       "    .dataframe tbody tr th {\n",
       "        vertical-align: top;\n",
       "    }\n",
       "\n",
       "    .dataframe thead th {\n",
       "        text-align: right;\n",
       "    }\n",
       "</style>\n",
       "<table border=\"1\" class=\"dataframe\">\n",
       "  <thead>\n",
       "    <tr style=\"text-align: right;\">\n",
       "      <th></th>\n",
       "      <th>json</th>\n",
       "      <th>plddt</th>\n",
       "      <th>ptm</th>\n",
       "      <th>pae</th>\n",
       "      <th>pdb_file</th>\n",
       "      <th>rank</th>\n",
       "    </tr>\n",
       "  </thead>\n",
       "  <tbody>\n",
       "    <tr>\n",
       "      <th>0</th>\n",
       "      <td>./files/af2_samples/AF2_scores_rank_004_alphaf...</td>\n",
       "      <td>78.428764</td>\n",
       "      <td>0.58</td>\n",
       "      <td>[[0.75, 1.725, 3.83, 5.75, 7.045, 9.515, 11.84...</td>\n",
       "      <td>./files/af2_samples/AF2_unrelaxed_rank_004_alp...</td>\n",
       "      <td>004</td>\n",
       "    </tr>\n",
       "    <tr>\n",
       "      <th>1</th>\n",
       "      <td>./files/af2_samples/AF2_scores_rank_002_alphaf...</td>\n",
       "      <td>80.411527</td>\n",
       "      <td>0.60</td>\n",
       "      <td>[[0.75, 1.755, 3.765, 5.4399999999999995, 6.94...</td>\n",
       "      <td>./files/af2_samples/AF2_unrelaxed_rank_002_alp...</td>\n",
       "      <td>002</td>\n",
       "    </tr>\n",
       "    <tr>\n",
       "      <th>2</th>\n",
       "      <td>./files/af2_samples/AF2_scores_rank_003_alphaf...</td>\n",
       "      <td>78.250982</td>\n",
       "      <td>0.59</td>\n",
       "      <td>[[0.75, 1.67, 3.6449999999999996, 5.76, 7.365,...</td>\n",
       "      <td>./files/af2_samples/AF2_unrelaxed_rank_003_alp...</td>\n",
       "      <td>003</td>\n",
       "    </tr>\n",
       "    <tr>\n",
       "      <th>3</th>\n",
       "      <td>./files/af2_samples/AF2_scores_rank_005_alphaf...</td>\n",
       "      <td>76.866355</td>\n",
       "      <td>0.52</td>\n",
       "      <td>[[0.75, 1.745, 3.67, 5.34, 6.595000000000001, ...</td>\n",
       "      <td>./files/af2_samples/AF2_unrelaxed_rank_005_alp...</td>\n",
       "      <td>005</td>\n",
       "    </tr>\n",
       "    <tr>\n",
       "      <th>4</th>\n",
       "      <td>./files/af2_samples/AF2_scores_rank_001_alphaf...</td>\n",
       "      <td>78.985273</td>\n",
       "      <td>0.60</td>\n",
       "      <td>[[0.75, 1.645, 3.685, 4.96, 6.945, 7.845000000...</td>\n",
       "      <td>./files/af2_samples/AF2_unrelaxed_rank_001_alp...</td>\n",
       "      <td>001</td>\n",
       "    </tr>\n",
       "  </tbody>\n",
       "</table>\n",
       "</div>"
      ],
      "text/plain": [
       "                                                json      plddt   ptm  \\\n",
       "0  ./files/af2_samples/AF2_scores_rank_004_alphaf...  78.428764  0.58   \n",
       "1  ./files/af2_samples/AF2_scores_rank_002_alphaf...  80.411527  0.60   \n",
       "2  ./files/af2_samples/AF2_scores_rank_003_alphaf...  78.250982  0.59   \n",
       "3  ./files/af2_samples/AF2_scores_rank_005_alphaf...  76.866355  0.52   \n",
       "4  ./files/af2_samples/AF2_scores_rank_001_alphaf...  78.985273  0.60   \n",
       "\n",
       "                                                 pae  \\\n",
       "0  [[0.75, 1.725, 3.83, 5.75, 7.045, 9.515, 11.84...   \n",
       "1  [[0.75, 1.755, 3.765, 5.4399999999999995, 6.94...   \n",
       "2  [[0.75, 1.67, 3.6449999999999996, 5.76, 7.365,...   \n",
       "3  [[0.75, 1.745, 3.67, 5.34, 6.595000000000001, ...   \n",
       "4  [[0.75, 1.645, 3.685, 4.96, 6.945, 7.845000000...   \n",
       "\n",
       "                                            pdb_file rank  \n",
       "0  ./files/af2_samples/AF2_unrelaxed_rank_004_alp...  004  \n",
       "1  ./files/af2_samples/AF2_unrelaxed_rank_002_alp...  002  \n",
       "2  ./files/af2_samples/AF2_unrelaxed_rank_003_alp...  003  \n",
       "3  ./files/af2_samples/AF2_unrelaxed_rank_005_alp...  005  \n",
       "4  ./files/af2_samples/AF2_unrelaxed_rank_001_alp...  001  "
      ]
     },
     "execution_count": 3,
     "metadata": {},
     "output_type": "execute_result"
    }
   ],
   "source": [
    "analysis = af2_analysis.AF2Analysis(glob.glob('./files/af2_samples/*json'))\n",
    "analysis.read_json()"
   ]
  },
  {
   "cell_type": "code",
   "execution_count": null,
   "metadata": {},
   "outputs": [],
   "source": []
  }
 ],
 "metadata": {
  "kernelspec": {
   "display_name": "util",
   "language": "python",
   "name": "python3"
  },
  "language_info": {
   "codemirror_mode": {
    "name": "ipython",
    "version": 3
   },
   "file_extension": ".py",
   "mimetype": "text/x-python",
   "name": "python",
   "nbconvert_exporter": "python",
   "pygments_lexer": "ipython3",
   "version": "3.9.7"
  },
  "orig_nbformat": 4
 },
 "nbformat": 4,
 "nbformat_minor": 2
}
