{
 "cells": [
  {
   "cell_type": "code",
   "execution_count": 4,
   "metadata": {},
   "outputs": [],
   "source": [
    "import os\n",
    "import sys\n",
    "import glob\n",
    "import multiprocessing as mp\n",
    "from functools import partial\n",
    "sys.path.append('../')\n",
    "\n",
    "from tools.usalign import run_usalign, usalign_parser\n",
    "USALIGN_BINARY = '/home/nfs/rmadaj/bins/usalign/USalign'"
   ]
  },
  {
   "cell_type": "markdown",
   "metadata": {},
   "source": [
    "# Run usalign to obtain dataset"
   ]
  },
  {
   "cell_type": "code",
   "execution_count": 5,
   "metadata": {},
   "outputs": [],
   "source": [
    "targets = glob.glob('files/file*.pdb') # target pdb files\n",
    "ref = 'files/ref.pdb' # reference pdb file\n",
    "\n",
    "run = run_usalign.RunUSAlign(usalign_binary=USALIGN_BINARY) # initialize the RunUSAlign object\n",
    "\n",
    "for target in targets:\n",
    "    run.run_usalign(\n",
    "        reference_pdb=ref,\n",
    "        target_pdb=target,\n",
    "        output_filename='usal_output.txt', # keep one to have all results in one file\n",
    "        mm=1, # default for multimers\n",
    "        ter=0,\n",
    "        outfmt=2, # easily parsable output\n",
    "        pymol=False, # no pymol session file\n",
    "        matrix=False, # no rotation matrix file\n",
    "        pdb_rank=None, # no rank for AF2\n",
    "    )\n"
   ]
  },
  {
   "cell_type": "markdown",
   "metadata": {},
   "source": [
    "# Analyze results"
   ]
  },
  {
   "cell_type": "code",
   "execution_count": 7,
   "metadata": {},
   "outputs": [
    {
     "data": {
      "text/html": [
       "<div>\n",
       "<style scoped>\n",
       "    .dataframe tbody tr th:only-of-type {\n",
       "        vertical-align: middle;\n",
       "    }\n",
       "\n",
       "    .dataframe tbody tr th {\n",
       "        vertical-align: top;\n",
       "    }\n",
       "\n",
       "    .dataframe thead th {\n",
       "        text-align: right;\n",
       "    }\n",
       "</style>\n",
       "<table border=\"1\" class=\"dataframe\">\n",
       "  <thead>\n",
       "    <tr style=\"text-align: right;\">\n",
       "      <th></th>\n",
       "      <th>target</th>\n",
       "      <th>template</th>\n",
       "      <th>tm1</th>\n",
       "      <th>tm2</th>\n",
       "      <th>rmsd</th>\n",
       "      <th>id1</th>\n",
       "      <th>id2</th>\n",
       "      <th>idali</th>\n",
       "      <th>docked_seqlength</th>\n",
       "      <th>template_seqlength</th>\n",
       "      <th>aligned_length</th>\n",
       "      <th>test_col</th>\n",
       "      <th>target_path</th>\n",
       "    </tr>\n",
       "  </thead>\n",
       "  <tbody>\n",
       "    <tr>\n",
       "      <th>0</th>\n",
       "      <td>file2</td>\n",
       "      <td>files/ref.pdb:1,A:1,B</td>\n",
       "      <td>0.5111</td>\n",
       "      <td>0.5111</td>\n",
       "      <td>6.60</td>\n",
       "      <td>0.514</td>\n",
       "      <td>0.514</td>\n",
       "      <td>0.675</td>\n",
       "      <td>500</td>\n",
       "      <td>500</td>\n",
       "      <td>381</td>\n",
       "      <td>test</td>\n",
       "      <td>files/file2.pdb</td>\n",
       "    </tr>\n",
       "    <tr>\n",
       "      <th>1</th>\n",
       "      <td>file1</td>\n",
       "      <td>files/ref.pdb:1,B:1,A</td>\n",
       "      <td>0.4456</td>\n",
       "      <td>0.4456</td>\n",
       "      <td>5.97</td>\n",
       "      <td>0.450</td>\n",
       "      <td>0.450</td>\n",
       "      <td>0.714</td>\n",
       "      <td>500</td>\n",
       "      <td>500</td>\n",
       "      <td>315</td>\n",
       "      <td>test</td>\n",
       "      <td>files/file1.pdb</td>\n",
       "    </tr>\n",
       "    <tr>\n",
       "      <th>2</th>\n",
       "      <td>file2</td>\n",
       "      <td>files/ref.pdb:1,A:1,B</td>\n",
       "      <td>0.5111</td>\n",
       "      <td>0.5111</td>\n",
       "      <td>6.60</td>\n",
       "      <td>0.514</td>\n",
       "      <td>0.514</td>\n",
       "      <td>0.675</td>\n",
       "      <td>500</td>\n",
       "      <td>500</td>\n",
       "      <td>381</td>\n",
       "      <td>test</td>\n",
       "      <td>files/file2.pdb</td>\n",
       "    </tr>\n",
       "    <tr>\n",
       "      <th>3</th>\n",
       "      <td>file1</td>\n",
       "      <td>files/ref.pdb:1,B:1,A</td>\n",
       "      <td>0.4456</td>\n",
       "      <td>0.4456</td>\n",
       "      <td>5.97</td>\n",
       "      <td>0.450</td>\n",
       "      <td>0.450</td>\n",
       "      <td>0.714</td>\n",
       "      <td>500</td>\n",
       "      <td>500</td>\n",
       "      <td>315</td>\n",
       "      <td>test</td>\n",
       "      <td>files/file1.pdb</td>\n",
       "    </tr>\n",
       "  </tbody>\n",
       "</table>\n",
       "</div>"
      ],
      "text/plain": [
       "  target               template     tm1     tm2  rmsd    id1    id2  idali  \\\n",
       "0  file2  files/ref.pdb:1,A:1,B  0.5111  0.5111  6.60  0.514  0.514  0.675   \n",
       "1  file1  files/ref.pdb:1,B:1,A  0.4456  0.4456  5.97  0.450  0.450  0.714   \n",
       "2  file2  files/ref.pdb:1,A:1,B  0.5111  0.5111  6.60  0.514  0.514  0.675   \n",
       "3  file1  files/ref.pdb:1,B:1,A  0.4456  0.4456  5.97  0.450  0.450  0.714   \n",
       "\n",
       "   docked_seqlength  template_seqlength  aligned_length test_col  \\\n",
       "0               500                 500             381     test   \n",
       "1               500                 500             315     test   \n",
       "2               500                 500             381     test   \n",
       "3               500                 500             315     test   \n",
       "\n",
       "       target_path  \n",
       "0  files/file2.pdb  \n",
       "1  files/file1.pdb  \n",
       "2  files/file2.pdb  \n",
       "3  files/file1.pdb  "
      ]
     },
     "execution_count": 7,
     "metadata": {},
     "output_type": "execute_result"
    }
   ],
   "source": [
    "usal_parser = usalign_parser.USalign_parser('usal_output.txt') # initialize the parser object and load the output file\n",
    "usal_parser.add_column('test_col','test') # add a column to the DataFrame\n",
    "df = usal_parser.read_usalign_output() # process the output file\n",
    "df"
   ]
  },
  {
   "cell_type": "markdown",
   "metadata": {},
   "source": [
    "# Run multiple usalign runs to save time"
   ]
  },
  {
   "cell_type": "code",
   "execution_count": 6,
   "metadata": {},
   "outputs": [
    {
     "name": "stdout",
     "output_type": "stream",
     "text": [
      "Processing files/ref.pdb with files/file1.pdb...Processing files/ref.pdb with files/file2.pdb...\n",
      "\n"
     ]
    },
    {
     "name": "stdout",
     "output_type": "stream",
     "text": [
      "/home/nfs/rmadaj/bins/usalign/USalign files/file2.pdb files/ref.pdb -mm 1 -ter 0 -outfmt 2 -o file2.pdb/usalign_None.dat >> usal_output.txt\n",
      "Analysis ran successfully\n",
      "/home/nfs/rmadaj/bins/usalign/USalign files/file1.pdb files/ref.pdb -mm 1 -ter 0 -outfmt 2 -o file1.pdb/usalign_None.dat >> usal_output.txt\n",
      "Analysis ran successfully\n"
     ]
    }
   ],
   "source": [
    "def worker(ref, sample):\n",
    "    instance = run_usalign.RunUSAlign(USALIGN_BINARY)\n",
    "    instance.run_usalign(\n",
    "        reference_pdb=ref,\n",
    "        target_pdb=sample,\n",
    "        output_filename='usal_output.txt', # keep one to have all results in one file\n",
    "        mm=1, # default for multimers\n",
    "        ter=0,\n",
    "        outfmt=2, # easily parsable output\n",
    "        pymol=False, # no pymol session file\n",
    "        matrix=False, # no rotation matrix file\n",
    "        pdb_rank=None, # no rank for AF2\n",
    "    )\n",
    "\n",
    "args_list = list(zip([ref] * len(targets), targets))\n",
    "pool = mp.Pool(processes=2)\n",
    "args_list = [(ref, target) for target in targets]\n",
    "pool.starmap(worker, args_list)\n",
    "\n",
    "pool.close()\n",
    "pool.join()\n"
   ]
  }
 ],
 "metadata": {
  "kernelspec": {
   "display_name": "util",
   "language": "python",
   "name": "python3"
  },
  "language_info": {
   "codemirror_mode": {
    "name": "ipython",
    "version": 3
   },
   "file_extension": ".py",
   "mimetype": "text/x-python",
   "name": "python",
   "nbconvert_exporter": "python",
   "pygments_lexer": "ipython3",
   "version": "3.9.7"
  },
  "orig_nbformat": 4
 },
 "nbformat": 4,
 "nbformat_minor": 2
}
