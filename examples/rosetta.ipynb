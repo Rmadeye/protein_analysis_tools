{
 "cells": [
  {
   "cell_type": "code",
   "execution_count": 14,
   "metadata": {},
   "outputs": [],
   "source": [
    "import sys\n",
    "import glob\n",
    "import multiprocessing as mp\n",
    "\n",
    "sys.path.append(\"../\")\n",
    "\n",
    "from tools.rosetta import run_rosetta, rosetta_parser\n",
    "\n",
    "ROSETTA_PATH = \"/opt/apps/rosetta-3.12/main/source/bin\""
   ]
  },
  {
   "cell_type": "markdown",
   "metadata": {},
   "source": [
    "# Perform some simple calculations with rosetta"
   ]
  },
  {
   "cell_type": "code",
   "execution_count": 5,
   "metadata": {},
   "outputs": [],
   "source": [
    "run = run_rosetta.RunRosetta(ROSETTA_PATH)  # initialize the class\n",
    "samples = glob.glob(\"files/*.pdb\")\n",
    "\n",
    "for sample in samples:\n",
    "    run.run_fast_relax(\n",
    "        sample,\n",
    "        extra_flags=\"-out:no_nstruct_label -out:suffix _relaxed -out:level 100\",  # remove _000x labels, adds suffix and surpress redundant info from Rosetta\n",
    "        out_dir=\"rosetta_output\",\n",
    "    )  # run fast relax\n",
    "for output in glob.glob(\"rosetta_output/*.pdb\"):\n",
    "    run.run_interface_analysis(\n",
    "        output,\n",
    "        interchain_interface=[\"A\", \"B\"],  # chain A and B.\n",
    "        extra_flags=\"-out:no_nstruct_label -out:suffix _interface -out:level 100\",\n",
    "        out_file=\"rosetta_output/interface_analysis.sc\",\n",
    "    )  # run interface analysis\n",
    "    run.run_residue_energy_breakdown(\n",
    "        output,\n",
    "        extra_flags=\"-out:no_nstruct_label -out:suffix _decomposition -out:level 100\",\n",
    "        out_file=\"rosetta_output/decomposition.dat\",\n",
    "    )  # run residue energy breakdown"
   ]
  },
  {
   "cell_type": "markdown",
   "metadata": {},
   "source": [
    "# Use scripts for data analysis"
   ]
  },
  {
   "cell_type": "code",
   "execution_count": 12,
   "metadata": {},
   "outputs": [
    {
     "data": {
      "image/png": "[encoded data removed]",
      "text/plain": [
       "<Figure size 432x288 with 1 Axes>"
      ]
     },
     "metadata": {
      "needs_background": "light"
     },
     "output_type": "display_data"
    },
    {
     "data": {
      "text/html": [
       "<div>\n",
       "<style scoped>\n",
       "    .dataframe tbody tr th:only-of-type {\n",
       "        vertical-align: middle;\n",
       "    }\n",
       "\n",
       "    .dataframe tbody tr th {\n",
       "        vertical-align: top;\n",
       "    }\n",
       "\n",
       "    .dataframe thead th {\n",
       "        text-align: right;\n",
       "    }\n",
       "</style>\n",
       "<table border=\"1\" class=\"dataframe\">\n",
       "  <thead>\n",
       "    <tr style=\"text-align: right;\">\n",
       "      <th></th>\n",
       "      <th>SCORE:</th>\n",
       "      <th>total_score</th>\n",
       "      <th>dslf_fa13</th>\n",
       "      <th>fa_atr</th>\n",
       "      <th>fa_dun</th>\n",
       "      <th>fa_elec</th>\n",
       "      <th>fa_intra_rep</th>\n",
       "      <th>fa_intra_sol_xover4</th>\n",
       "      <th>fa_rep</th>\n",
       "      <th>fa_sol</th>\n",
       "      <th>...</th>\n",
       "      <th>hbond_sc</th>\n",
       "      <th>hbond_sr_bb</th>\n",
       "      <th>lk_ball_wtd</th>\n",
       "      <th>omega</th>\n",
       "      <th>p_aa_pp</th>\n",
       "      <th>pro_close</th>\n",
       "      <th>rama_prepro</th>\n",
       "      <th>ref</th>\n",
       "      <th>yhh_planarity</th>\n",
       "      <th>description</th>\n",
       "    </tr>\n",
       "  </thead>\n",
       "  <tbody>\n",
       "    <tr>\n",
       "      <th>0</th>\n",
       "      <td>SCORE:</td>\n",
       "      <td>-1310.547</td>\n",
       "      <td>-7.004</td>\n",
       "      <td>-2873.249</td>\n",
       "      <td>499.978</td>\n",
       "      <td>-853.204</td>\n",
       "      <td>6.026</td>\n",
       "      <td>82.736</td>\n",
       "      <td>284.250</td>\n",
       "      <td>1755.548</td>\n",
       "      <td>...</td>\n",
       "      <td>-53.691</td>\n",
       "      <td>-331.824</td>\n",
       "      <td>-80.965</td>\n",
       "      <td>65.676</td>\n",
       "      <td>-77.524</td>\n",
       "      <td>1.759</td>\n",
       "      <td>-6.693</td>\n",
       "      <td>346.555</td>\n",
       "      <td>0.225</td>\n",
       "      <td>refchanged</td>\n",
       "    </tr>\n",
       "    <tr>\n",
       "      <th>1</th>\n",
       "      <td>SCORE:</td>\n",
       "      <td>2885.864</td>\n",
       "      <td>-7.111</td>\n",
       "      <td>-2539.494</td>\n",
       "      <td>641.350</td>\n",
       "      <td>-706.912</td>\n",
       "      <td>5.185</td>\n",
       "      <td>78.269</td>\n",
       "      <td>3784.007</td>\n",
       "      <td>1654.747</td>\n",
       "      <td>...</td>\n",
       "      <td>-32.407</td>\n",
       "      <td>-322.804</td>\n",
       "      <td>-66.794</td>\n",
       "      <td>87.556</td>\n",
       "      <td>-48.833</td>\n",
       "      <td>4.283</td>\n",
       "      <td>52.663</td>\n",
       "      <td>349.191</td>\n",
       "      <td>0.167</td>\n",
       "      <td>file1changed</td>\n",
       "    </tr>\n",
       "    <tr>\n",
       "      <th>2</th>\n",
       "      <td>SCORE:</td>\n",
       "      <td>-920.188</td>\n",
       "      <td>-6.470</td>\n",
       "      <td>-2624.498</td>\n",
       "      <td>556.598</td>\n",
       "      <td>-730.089</td>\n",
       "      <td>5.285</td>\n",
       "      <td>76.585</td>\n",
       "      <td>231.281</td>\n",
       "      <td>1705.669</td>\n",
       "      <td>...</td>\n",
       "      <td>-25.784</td>\n",
       "      <td>-334.583</td>\n",
       "      <td>-79.190</td>\n",
       "      <td>65.145</td>\n",
       "      <td>-64.128</td>\n",
       "      <td>4.635</td>\n",
       "      <td>-2.335</td>\n",
       "      <td>348.517</td>\n",
       "      <td>0.454</td>\n",
       "      <td>file2changed</td>\n",
       "    </tr>\n",
       "  </tbody>\n",
       "</table>\n",
       "<p>3 rows × 22 columns</p>\n",
       "</div>"
      ],
      "text/plain": [
       "   SCORE:  total_score  dslf_fa13    fa_atr   fa_dun  fa_elec  fa_intra_rep  \\\n",
       "0  SCORE:    -1310.547     -7.004 -2873.249  499.978 -853.204         6.026   \n",
       "1  SCORE:     2885.864     -7.111 -2539.494  641.350 -706.912         5.185   \n",
       "2  SCORE:     -920.188     -6.470 -2624.498  556.598 -730.089         5.285   \n",
       "\n",
       "   fa_intra_sol_xover4    fa_rep    fa_sol  ...  hbond_sc  hbond_sr_bb  \\\n",
       "0               82.736   284.250  1755.548  ...   -53.691     -331.824   \n",
       "1               78.269  3784.007  1654.747  ...   -32.407     -322.804   \n",
       "2               76.585   231.281  1705.669  ...   -25.784     -334.583   \n",
       "\n",
       "   lk_ball_wtd   omega  p_aa_pp  pro_close  rama_prepro      ref  \\\n",
       "0      -80.965  65.676  -77.524      1.759       -6.693  346.555   \n",
       "1      -66.794  87.556  -48.833      4.283       52.663  349.191   \n",
       "2      -79.190  65.145  -64.128      4.635       -2.335  348.517   \n",
       "\n",
       "   yhh_planarity   description  \n",
       "0          0.225    refchanged  \n",
       "1          0.167  file1changed  \n",
       "2          0.454  file2changed  \n",
       "\n",
       "[3 rows x 22 columns]"
      ]
     },
     "execution_count": 12,
     "metadata": {},
     "output_type": "execute_result"
    }
   ],
   "source": [
    "rp = rosetta_parser.RosettaParser(\"rosetta_output/score_minim.sc\")\n",
    "rp.change_strings_in_selected_column_by_user_input(\"description\", \"_relaxed\", \"changed\")\n",
    "rp.plot_histogram(\"total_score\")\n",
    "rp.read_dataframe()"
   ]
  },
  {
   "cell_type": "markdown",
   "metadata": {},
   "source": [
    "# Multithreading usage with run scripts"
   ]
  },
  {
   "cell_type": "code",
   "execution_count": 15,
   "metadata": {},
   "outputs": [],
   "source": [
    "def worker(sample):\n",
    "    instance = run_rosetta.RunRosetta(ROSETTA_PATH)\n",
    "    instance.run_fast_relax(\n",
    "        sample,\n",
    "        extra_flags=\"-out:no_nstruct_label -out:suffix _relaxed_mpi -out:level 100\",  # remove _000x labels, adds suffix and surpress redundant info from Rosetta\n",
    "        out_dir=\"rosetta_output\")\n",
    "\n",
    "num_cpu = 3\n",
    "pool = mp.Pool(processes=num_cpu)        \n",
    "pool.map(worker, samples)\n",
    "pool.close()\n",
    "pool.join()\n"
   ]
  }
 ],
 "metadata": {
  "kernelspec": {
   "display_name": "util",
   "language": "python",
   "name": "python3"
  },
  "language_info": {
   "codemirror_mode": {
    "name": "ipython",
    "version": 3
   },
   "file_extension": ".py",
   "mimetype": "text/x-python",
   "name": "python",
   "nbconvert_exporter": "python",
   "pygments_lexer": "ipython3",
   "version": "3.9.7"
  },
  "orig_nbformat": 4
 },
 "nbformat": 4,
 "nbformat_minor": 2
}
